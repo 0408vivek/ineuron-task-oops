{
 "cells": [
  {
   "cell_type": "markdown",
   "id": "8cffce9f",
   "metadata": {},
   "source": [
    "# 1. the Person class has a constructor that takes name and age as arguments and assigns them to the object's attributes. The introduce method is then invoked on the object to introduce the person."
   ]
  },
  {
   "cell_type": "code",
   "execution_count": 4,
   "id": "c1a74068",
   "metadata": {},
   "outputs": [
    {
     "name": "stdout",
     "output_type": "stream",
     "text": [
      "32\n",
      "vivek\n",
      "name of person is:vivek\n",
      "age of vivek is 32\n"
     ]
    }
   ],
   "source": [
    "class Person:\n",
    "    def __init__(self,name,age):\n",
    "        self.name=name\n",
    "        self.age=age\n",
    "    def introduce(self):\n",
    "        print(f\"name of person is:{self.name}\")\n",
    "        print(f\"age of {self.name} is {self.age}\")\n",
    "person=Person(\"vivek\",32)\n",
    "print(person.age)\n",
    "print(person.name)\n",
    "person.introduce()"
   ]
  },
  {
   "cell_type": "markdown",
   "id": "1cb4c697",
   "metadata": {},
   "source": [
    "# 2. the car class has a constructor that takes brand and model as arguments and assigns them to the object's attributes. The display_info method is then invoked on the object to display the car's brand and model."
   ]
  },
  {
   "cell_type": "code",
   "execution_count": 19,
   "id": "703b5b2e",
   "metadata": {},
   "outputs": [
    {
     "name": "stdout",
     "output_type": "stream",
     "text": [
      "Mahindra\n",
      "v6\n",
      "brand is :Mahindra\n"
     ]
    }
   ],
   "source": [
    "class Car:\n",
    "    def __init__(self,brand,model):\n",
    "        self.brand=brand\n",
    "        self.model=model\n",
    "    def display_info(self):\n",
    "        print(f\"brand is :{self.brand}\")\n",
    "        \n",
    "scorpio=Car(\"Mahindra\",\"v6\")\n",
    "print(scorpio.brand)\n",
    "print(scorpio.model)\n",
    "scorpio.brand\n",
    "scorpio.display_info()"
   ]
  },
  {
   "cell_type": "markdown",
   "id": "b571b192",
   "metadata": {},
   "source": [
    "# 3. the Bankaccount class has a constructor that takes account_number and balance as arguments and assigns them to the object's attributes. The display_balance method is then invoked on the object to display the account number and balance."
   ]
  },
  {
   "cell_type": "code",
   "execution_count": 14,
   "id": "12534be9",
   "metadata": {},
   "outputs": [
    {
     "name": "stdout",
     "output_type": "stream",
     "text": [
      "balance is :45632145\n"
     ]
    }
   ],
   "source": [
    "class BankAccount:\n",
    "    def __init__(self,account_number,balance):\n",
    "        self.accountnum=account_number\n",
    "        self.balance=balance\n",
    "    def display_balance(self):\n",
    "        print(f\"balance is :{self.balance}\")\n",
    "person=BankAccount(1323456,45632145)\n",
    "person.display_balance()\n",
    "        "
   ]
  },
  {
   "cell_type": "markdown",
   "id": "54882261",
   "metadata": {},
   "source": [
    "# 4.  the Mobilephone class has a constructor that takes brand and model as arguments and assigns them to the object's attributes. The make call method is then invoked on the object to make a call with the phone."
   ]
  },
  {
   "cell_type": "code",
   "execution_count": 24,
   "id": "978a4a2e",
   "metadata": {},
   "outputs": [
    {
     "name": "stdout",
     "output_type": "stream",
     "text": [
      "make call with :samsung and with :j73\n"
     ]
    }
   ],
   "source": [
    "class MobilePhone:\n",
    "    def __init__(self,Brand,model):\n",
    "        self.Brand=Brand\n",
    "        self.model=model\n",
    "    def make_call(self):\n",
    "        print(f\"make call with :{self.Brand} and with :{self.model}\")\n",
    "phone=MobilePhone(\"samsung\",\"j73\")\n",
    "phone.make_call()"
   ]
  },
  {
   "cell_type": "markdown",
   "id": "8330159a",
   "metadata": {},
   "source": [
    "# 5. the Book class has a constructor that takes title and author as arguments and assigns them to the object's attributes. The display_info method is then invoked on the object to display the book's title and author."
   ]
  },
  {
   "cell_type": "code",
   "execution_count": 25,
   "id": "cd11ddf4",
   "metadata": {},
   "outputs": [
    {
     "name": "stdout",
     "output_type": "stream",
     "text": [
      "the book title is :Three idiots and book author is :chetan bhagat\n",
      "the book title is :Mahabharat and book author is :shri ved vyas ji \n"
     ]
    }
   ],
   "source": [
    "class Book:\n",
    "    def __init__(self,title,author):\n",
    "        self.title=title\n",
    "        self.author=author\n",
    "    def display_info(self):\n",
    "        print(f\"the book title is :{self.title} and book author is :{self.author}\")\n",
    "book1=Book(\"Three idiots\",\"chetan bhagat\")\n",
    "book2=Book(\"Mahabharat\",\"shri ved vyas ji \")\n",
    "book1.display_info()\n",
    "book2.display_info()\n",
    "        "
   ]
  },
  {
   "cell_type": "markdown",
   "id": "b2960c1b",
   "metadata": {},
   "source": [
    "# 6. Vehicles: Create a base class called Vehicle with attributes such as make, model, and year. Implement two subclasses Car and Motorcycle that inherit from Vehicle. Add additional methods to the subclasses, such as start_engine() and stop_engine(), and handle any specific behavior or rules for each vehicle type."
   ]
  },
  {
   "cell_type": "code",
   "execution_count": 31,
   "id": "2d1973ce",
   "metadata": {},
   "outputs": [
    {
     "name": "stdout",
     "output_type": "stream",
     "text": [
      "start engine of :tata with model:v7 which make in :2023\n",
      "stop engine of :sujuki with model:hayabusha which make in :2023\n"
     ]
    }
   ],
   "source": [
    "class Vehciles:\n",
    "    def __init__(self,make,model,year):\n",
    "        self.make=make\n",
    "        self.model=model\n",
    "        self.year=year\n",
    "    \n",
    "class Car(Vehciles):\n",
    "    \n",
    "    def start_engine(self):\n",
    "        print(f\"start engine of :{self.make} with model:{self.model} which make in :{self.year}\")\n",
    "    def stop_engine(self):\n",
    "        print(f\"stop engine of :{self.make} with model:{self.model} which make in :{self.year}\")\n",
    "        \n",
    "class Motorcycle(Vehciles):\n",
    "   \n",
    "    def start_engine(self):\n",
    "        print(f\"start engine of :{self.make} with model:{self.model} which make in :{self.year}\")\n",
    "    def stop_engine(self):\n",
    "        print(f\"stop engine of :{self.make} with model:{self.model} which make in :{self.year}\")\n",
    "\n",
    "car=Car(\"tata\",\"v7\",2023)\n",
    "bike=Motorcycle(\"sujuki\",\"hayabusha\",2023)\n",
    "car.start_engine()\n",
    "bike.stop_engine()\n",
    "    "
   ]
  },
  {
   "cell_type": "markdown",
   "id": "9e7d02e9",
   "metadata": {},
   "source": [
    "# 7. Animals: Create a base class called Animal with methods such as eat() and sleep(). Implement two subclasses Dog and Cat that inherit from Animal. Add additional methods to the subclasses, such as bark() for dogs and meow() for cats, and handle any specific behavior or rules for each animal type.\n"
   ]
  },
  {
   "cell_type": "code",
   "execution_count": 36,
   "id": "8a2ad607",
   "metadata": {},
   "outputs": [
    {
     "name": "stdout",
     "output_type": "stream",
     "text": [
      "dog sound is :bark \n",
      "cat sound is meow\n"
     ]
    }
   ],
   "source": [
    "class Animals:\n",
    "    def __init__(self,eat,sleep):\n",
    "        self.eat=eat\n",
    "        self.sleep=sleep\n",
    "class Dog(Animals):\n",
    "    def __init__(self,name):\n",
    "        self.name=name\n",
    "    def sound(self):\n",
    "        print(f\"dog sound is :bark \")\n",
    "class Cat(Animals):\n",
    "    def __init__(self,name):\n",
    "        self.name=name\n",
    "    def sound(self):\n",
    "        print(f\"cat sound is meow\")\n",
    "dog=Dog(\"labra\")\n",
    "cat=Cat(\"kat\")\n",
    "dog.sound()\n",
    "cat.sound()\n",
    "              \n",
    "    "
   ]
  },
  {
   "cell_type": "markdown",
   "id": "592ab211",
   "metadata": {},
   "source": [
    "# 8. Library Catalog: Create a base class called LibraryItem with attributes such as title, author, and publication_year. Implement two subclasses Book and Magazine that inherit from LibraryItem. Add additional methods to the subclasses, such as checkout() and return_item(), and handle any specific behavior or rules for each item type."
   ]
  },
  {
   "cell_type": "code",
   "execution_count": 41,
   "id": "dace0ef3",
   "metadata": {},
   "outputs": [
    {
     "name": "stdout",
     "output_type": "stream",
     "text": [
      "checkout  of  :Three idiots \n",
      "return of :Three idiots\n",
      "checkout time of  :times \n",
      "return of :times\n"
     ]
    }
   ],
   "source": [
    "class Libraryitem:\n",
    "    def __init__(self,title,author,publication_year):\n",
    "        self.title=title\n",
    "        self.author=author\n",
    "        self.publication_year=publication_year\n",
    "class Book(Libraryitem):\n",
    "    def checkout(self):\n",
    "        print(f\"checkout  of  :{self.title} \")\n",
    "    def return_item(self):\n",
    "        print(f\"return of :{self.title}\")\n",
    "    \n",
    "class magazine(Libraryitem):\n",
    "    def checkout(self):\n",
    "        print(f\"checkout time of  :{self.title} \")\n",
    "    def return_item(self):\n",
    "        print(f\"return of :{self.title}\")\n",
    "book=Book(\"Three idiots\",\"chetan bhagat\",2010)\n",
    "magazine1=magazine(\"times\",\"the times\",2001)\n",
    "book.checkout()\n",
    "book.return_item()\n",
    "magazine1.checkout()\n",
    "magazine1.return_item()\n",
    "        \n",
    "    "
   ]
  },
  {
   "cell_type": "markdown",
   "id": "418ffe8b",
   "metadata": {},
   "source": [
    "# 9. Employees and Departments: Create a base class called Employee with attributes such as name, salary, and department. Implement two subclasses Manager and Staff that inherit from Employee. Add additional methods to the subclasses, such as assign_task() for managers and attend_meeting() for staff members. Create a separate class called Department that contains a list of employees and methods to add or remove employees from the department."
   ]
  },
  {
   "cell_type": "code",
   "execution_count": 9,
   "id": "c714c757",
   "metadata": {},
   "outputs": [
    {
     "ename": "SyntaxError",
     "evalue": "invalid syntax (664394208.py, line 14)",
     "output_type": "error",
     "traceback": [
      "\u001b[1;36m  Cell \u001b[1;32mIn[9], line 14\u001b[1;36m\u001b[0m\n\u001b[1;33m    return add_employe += self.department\u001b[0m\n\u001b[1;37m                       ^\u001b[0m\n\u001b[1;31mSyntaxError\u001b[0m\u001b[1;31m:\u001b[0m invalid syntax\n"
     ]
    }
   ],
   "source": [
    "class Employee:\n",
    "    def __init__(self,name,salary,department):\n",
    "        self.name=name\n",
    "        self.salary=salary\n",
    "        self.department=department\n",
    "class Manager(Employee):\n",
    "    def assign_task(self):\n",
    "        print(f\"this task has given by :{self.name}\")\n",
    "class Staff(Employee):\n",
    "    def attend_meeting(self):\n",
    "        print(f\"meeting attending by :{self.name}\")\n",
    "class Department(Employee):\n",
    "    def add_employe(self):\n",
    "        return add_employe += self.department\n",
    "        \n",
    "    def remove(self):\n",
    "        return remove -= self.department\n",
    "        \n",
    "manager=Manager(\"vivek\",50000,10)\n",
    "manager.attend_meeting()\n",
    "\n",
    "        \n",
    "\n",
    "\n",
    "\n",
    "\n",
    "    "
   ]
  },
  {
   "cell_type": "markdown",
   "id": "3c7a6cc7",
   "metadata": {},
   "source": [
    "# 10. Bank Transactions: Create a base class called BankAccount with attributes such as account_number and balance. Implement subclasses for different types of accounts such as CheckingAccount and SavingsAccount that inherit from BankAccount. Add additional methods to the subclasses, such as withdraw() and deposit(), and handle any specific behavior or rules for each account type.\n"
   ]
  },
  {
   "cell_type": "code",
   "execution_count": 10,
   "id": "883a16b5",
   "metadata": {},
   "outputs": [
    {
     "name": "stdout",
     "output_type": "stream",
     "text": [
      "Amount deposit in your account is :110 , available balance is :110 \n",
      "amount debit from your account is : 50 , available balance is :60 \n",
      "fund transfer from your account is : 30 , available balance is :30 \n",
      "Amount deposit in your account is :500 , available balance is :530 \n",
      "fund transfer from your account is : 500 , available balance is :30 \n",
      "Amount deposit in your account is :1000 , available balance is :1030 \n",
      "amount debit from your account is : 120 , available balance is :910 \n",
      "Amount deposit in your account is :10500 , available balance is :11410 \n",
      "amount debit from your account is : 50 , available balance is :11360 \n",
      "Amount deposit in your account is :2000 , available balance is :13360 \n",
      "amount debit from your account is : 10000 , available balance is :3360 \n",
      "Amount deposit in your account is :1050000 , available balance is :1053360 \n"
     ]
    }
   ],
   "source": [
    "class BankAccount:\n",
    "    def __init__(self,account_number,ifsc_code,account_holder,balance=0):\n",
    "        self.account=account_number\n",
    "        self.ifsc=ifsc_code\n",
    "        self.account_holder=account_holder\n",
    "        self.balance=balance\n",
    "\n",
    "\n",
    "    def deposite(self,deposite):\n",
    "\n",
    "        self.balance+=deposite\n",
    "        print(f\"Amount deposit in your account is :{deposite} , available balance is :{self.balance} \")\n",
    "    def withdrawl(self,withdrawl):\n",
    "        if withdrawl<=self.balance:\n",
    "\n",
    "            self.balance-=withdrawl\n",
    "            print(f'amount debit from your account is : {withdrawl} , available balance is :{self.balance} ')\n",
    "        else:\n",
    "            print(\"suficient balance low\")\n",
    "    def fundtransfer(self,fundtransfer):\n",
    "        if fundtransfer<=self.balance:\n",
    "\n",
    "            self.balance-=fundtransfer\n",
    "            print(f'fund transfer from your account is : {fundtransfer} , available balance is :{self.balance} ')\n",
    "        else:\n",
    "            print(\"suficient balance low for fund transfer\")\n",
    "    def message(self,message):\n",
    "        print(\"your amount will be deducted form your account \")\n",
    "vivek=BankAccount(1224545,\"sbin33d\",\"rahul\",0)\n",
    "vivek.deposite(110)\n",
    "vivek.withdrawl(50)\n",
    "vivek.fundtransfer(30)\n",
    "vivek.deposite(500)\n",
    "vivek.fundtransfer(500)\n",
    "vivek.deposite(1000)\n",
    "vivek.withdrawl(120)\n",
    "vivek.deposite(10500)\n",
    "vivek.withdrawl(50)\n",
    "vivek.deposite(2000)\n",
    "vivek.withdrawl(10000)\n",
    "vivek.deposite(1050000)"
   ]
  },
  {
   "cell_type": "markdown",
   "id": "2d2bfdcd",
   "metadata": {},
   "source": [
    "# 11. School Management System: Create a base class called Person with attributes such as name, age, and address. Implement subclasses for different roles such as Student, Teacher, and Staff that inherit from Person. Add additional methods to the subclasses, such as take_exam() for students and teach_subject() for teachers."
   ]
  },
  {
   "cell_type": "code",
   "execution_count": 19,
   "id": "facf4c5c",
   "metadata": {},
   "outputs": [
    {
     "name": "stdout",
     "output_type": "stream",
     "text": [
      "solve exam by :vivek\n",
      "teacher teach :math\n",
      "fees takes by :staff1\n"
     ]
    }
   ],
   "source": [
    "class Person:\n",
    "        def __init__(self,name,age,address):\n",
    "            self.name=name\n",
    "            self.age=age\n",
    "            self.address=address\n",
    "class Student(Person):\n",
    "    def take_exam(self):\n",
    "        print(f\"solve exam by :{self.name}\")\n",
    "class Teacher(Person):\n",
    "    def teach_subject(self,subject_name):\n",
    "                self.subject_name=subject_name\n",
    "                print(f\"teacher teach :{self.subject_name}\")\n",
    "class Staff(Person):\n",
    "    def take_fees(self):\n",
    "        print(f\"fees takes by :{self.name}\")\n",
    "    \n",
    "student=Student(\"vivek\",32,\"gwalior\")\n",
    "teacher=Teacher(\"ineuron\",32,\"banglor\")\n",
    "staff=Staff(\"staff1\",50,\"xyz\")\n",
    "student.take_exam()\n",
    "teacher.teach_subject(\"math\")\n",
    "staff.take_fees()\n",
    "\n"
   ]
  },
  {
   "cell_type": "code",
   "execution_count": null,
   "id": "36d9bc56",
   "metadata": {},
   "outputs": [],
   "source": []
  }
 ],
 "metadata": {
  "kernelspec": {
   "display_name": "Python 3 (ipykernel)",
   "language": "python",
   "name": "python3"
  },
  "language_info": {
   "codemirror_mode": {
    "name": "ipython",
    "version": 3
   },
   "file_extension": ".py",
   "mimetype": "text/x-python",
   "name": "python",
   "nbconvert_exporter": "python",
   "pygments_lexer": "ipython3",
   "version": "3.10.9"
  }
 },
 "nbformat": 4,
 "nbformat_minor": 5
}
